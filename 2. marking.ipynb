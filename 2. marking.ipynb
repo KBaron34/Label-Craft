{
 "cells": [
  {
   "cell_type": "markdown",
   "metadata": {},
   "source": [
    "# Описание\n",
    "В данном ноутбуке проводится доразметка неразмеченного, предварительно предобработанного датасета unlabeled_train_name (см. ноутбук EDA+feature_engineering).\n",
    "\n",
    "На первом этапе с помощью графовой структуры из category_tree определяются родительские категории. Затем с использованием библиотеки FAISS создаётся векторная база категорий.\n",
    "\n",
    "Для каждого объекта из датасета осуществляется поиск топ-5 ближайших категорий по евклидову расстоянию в эмбеддинг-пространстве (по отношению к категориям из category_tree).\n",
    "\n",
    "Далее найденные кандидаты ранжируются с помощью кросс-энкодера, и в качестве финальной метки выбирается топ-1 категория."
   ]
  },
  {
   "cell_type": "markdown",
   "metadata": {},
   "source": [
    "# Import"
   ]
  },
  {
   "cell_type": "code",
   "execution_count": 1,
   "metadata": {},
   "outputs": [],
   "source": [
    "import pandas as pd\n",
    "import numpy as np\n",
    "\n",
    "import networkx as nx\n",
    "\n",
    "from datasets import Dataset\n",
    "\n",
    "import torch.nn.functional as F\n",
    "from transformers import AutoTokenizer, AutoModel\n",
    "\n",
    "import faiss\n",
    "from sentence_transformers import CrossEncoder\n",
    "\n",
    "from tqdm import tqdm\n",
    "\n",
    "import warnings\n",
    "warnings.filterwarnings('ignore')"
   ]
  },
  {
   "cell_type": "code",
   "execution_count": null,
   "metadata": {},
   "outputs": [],
   "source": [
    "tokenizer = AutoTokenizer.from_pretrained('intfloat/multilingual-e5-large')\n",
    "model = AutoModel.from_pretrained('intfloat/multilingual-e5-large').to('cuda:0')"
   ]
  },
  {
   "cell_type": "code",
   "execution_count": null,
   "metadata": {},
   "outputs": [],
   "source": [
    "reranker = CrossEncoder('DiTy/cross-encoder-russian-msmarco')"
   ]
  },
  {
   "cell_type": "code",
   "execution_count": null,
   "metadata": {},
   "outputs": [],
   "source": [
    "df = pd.read_parquet('unlabeled_train_name.parquet')\n",
    "category_tree = pd.read_csv('category_tree.csv')"
   ]
  },
  {
   "cell_type": "code",
   "execution_count": 3,
   "metadata": {},
   "outputs": [
    {
     "data": {
      "text/html": [
       "<div>\n",
       "<style scoped>\n",
       "    .dataframe tbody tr th:only-of-type {\n",
       "        vertical-align: middle;\n",
       "    }\n",
       "\n",
       "    .dataframe tbody tr th {\n",
       "        vertical-align: top;\n",
       "    }\n",
       "\n",
       "    .dataframe thead th {\n",
       "        text-align: right;\n",
       "    }\n",
       "</style>\n",
       "<table border=\"1\" class=\"dataframe\">\n",
       "  <thead>\n",
       "    <tr style=\"text-align: right;\">\n",
       "      <th></th>\n",
       "      <th>name</th>\n",
       "    </tr>\n",
       "  </thead>\n",
       "  <tbody>\n",
       "    <tr>\n",
       "      <th>0</th>\n",
       "      <td>комплект фиксации kict cu-332. для видеокарт</td>\n",
       "    </tr>\n",
       "    <tr>\n",
       "      <th>1</th>\n",
       "      <td>посудомоечная машина vestel df45e51w белый</td>\n",
       "    </tr>\n",
       "    <tr>\n",
       "      <th>2</th>\n",
       "      <td>уплотнитель для двери холодильника. подходит д...</td>\n",
       "    </tr>\n",
       "    <tr>\n",
       "      <th>3</th>\n",
       "      <td>кронштейн для телевизора 32-55 дюймов kaloc x4...</td>\n",
       "    </tr>\n",
       "    <tr>\n",
       "      <th>4</th>\n",
       "      <td>unimania держатель для телефона автомобильный ...</td>\n",
       "    </tr>\n",
       "  </tbody>\n",
       "</table>\n",
       "</div>"
      ],
      "text/plain": [
       "                                                name\n",
       "0       комплект фиксации kict cu-332. для видеокарт\n",
       "1         посудомоечная машина vestel df45e51w белый\n",
       "2  уплотнитель для двери холодильника. подходит д...\n",
       "3  кронштейн для телевизора 32-55 дюймов kaloc x4...\n",
       "4  unimania держатель для телефона автомобильный ..."
      ]
     },
     "execution_count": 3,
     "metadata": {},
     "output_type": "execute_result"
    }
   ],
   "source": [
    "df.head()"
   ]
  },
  {
   "cell_type": "markdown",
   "metadata": {},
   "source": [
    "# Preprocessing"
   ]
  },
  {
   "cell_type": "code",
   "execution_count": 4,
   "metadata": {},
   "outputs": [
    {
     "name": "stdout",
     "output_type": "stream",
     "text": [
      "<class 'pandas.core.frame.DataFrame'>\n",
      "RangeIndex: 1896 entries, 0 to 1895\n",
      "Data columns (total 3 columns):\n",
      " #   Column     Non-Null Count  Dtype   \n",
      "---  ------     --------------  -----   \n",
      " 0   cat_id     1896 non-null   int64   \n",
      " 1   parent_id  1896 non-null   int32   \n",
      " 2   cat_name   1896 non-null   category\n",
      "dtypes: category(1), int32(1), int64(1)\n",
      "memory usage: 103.9 KB\n"
     ]
    }
   ],
   "source": [
    "# заменяем NaN в parent_id на 0.0\n",
    "category_tree['parent_id'] = category_tree['parent_id'].fillna(0)\n",
    "\n",
    "# преобразование в значений в колонках\n",
    "category_tree['parent_id'] = category_tree['parent_id'].astype(int)\n",
    "category_tree['cat_name'] = category_tree['cat_name'].astype('category')\n",
    "category_tree.info()"
   ]
  },
  {
   "cell_type": "code",
   "execution_count": 5,
   "metadata": {
    "scrolled": true
   },
   "outputs": [
    {
     "name": "stdout",
     "output_type": "stream",
     "text": [
      "[117, 152, 164, 169, 170, 173, 176, 177, 180, 182, 185, 188, 192, 196, 233, 235, 237, 277, 280, 283, 284, 287, 290, 327, 361, 390, 392, 404, 406, 417, 423, 438, 445, 446, 460, 465, 469, 1001, 1003, 1007, 1019, 1020, 1021, 1025, 1026, 1027, 1030, 1045, 1046, 1054, 1055, 1061, 1064, 1072, 1077, 1078, 1081, 1082, 1083, 1085, 1088, 1090, 1094, 1101, 1102, 1106, 1115, 1116, 1118, 1122, 1124, 1131, 1132, 1133, 1134, 1135, 1137, 1139, 1140, 1141, 1148, 1149, 1152, 1154, 1158, 1161, 1166, 1170, 1171, 1184, 1185, 1186, 1198, 1199, 1205, 1206, 1211, 1216, 1229, 1234, 1238, 1249, 1250, 1251, 1253, 1259, 1260, 1261, 1265, 1268, 1273, 1275, 1276, 1277, 1290, 1291, 1293, 1295, 1300, 1303, 1304, 1305, 1306, 1311, 1312, 1321, 1322, 1327, 1329, 1335, 1338, 1344, 1345, 1347, 1350, 1357, 1361, 1362, 1365, 1367, 1370, 1372, 1375, 1376, 1377, 1378, 1379, 1380, 1382, 1396, 1397, 1398, 1399, 1400, 1401, 1402, 1403, 1404, 1405, 1407, 1409, 1412, 1413, 1414, 1415, 1417, 1426, 1427, 1430, 1441, 1447, 1450, 1463, 1466, 1472, 1477, 1481, 1482, 1484, 1490, 1492, 1495, 1496, 1497, 1502, 1509, 1519, 1529, 1538, 1548, 1550, 1578, 1579, 1580, 1581, 1584, 1586, 1589, 1590, 1591, 1594, 1599, 1601, 1620, 1622, 1623, 1624, 1627, 1629, 1630, 1633, 1634, 1635, 1636, 1638, 1639, 1642, 1643, 1644, 1647, 1651, 1655, 1656, 1659, 1660, 1662, 1664, 1673, 1677, 1679, 1686, 1687, 1700, 1706, 1711, 1715, 1889, 1891, 1900, 1920, 1924, 1930, 1934, 1937, 1948, 1971, 1973, 1977, 1990, 2003, 2005, 2006, 2011, 2012, 2014, 2015, 2016, 2018, 2019, 2023, 2112, 2126, 2131, 2133, 2135, 2154, 2162, 2164, 2166, 2171, 2173, 2190, 2191, 2192, 2193, 2194, 2200, 2210, 2214, 2222, 2224, 2228, 2230, 2232, 2233, 2234, 2237, 2239, 2283, 2284, 2285, 2286, 2287, 2289, 2291, 2301, 2304, 2305, 2308, 2310, 2314, 2317, 2320, 2321, 2326, 2329, 2334, 2337, 2349, 2350, 2354, 2358, 2360, 2362, 2366, 2369, 2372, 2374, 2379, 2401, 2403, 2406, 2413, 2418, 2421, 2429, 2430, 2432, 2433, 2437, 2449, 2462, 2464, 2466, 2473, 2474, 2475, 2476, 2477, 2479, 2480, 2481, 2493, 2497, 2499, 2501, 2504, 2519, 2524, 2533, 2549, 2553, 2554, 2559, 2563, 2565, 2566, 2571, 2580, 2584, 2588, 2589, 2602, 2617, 2618, 2620, 2622, 2628, 2634, 2636, 2645, 2655, 2656, 2657, 2667, 2668, 2670, 2681, 2684, 2704, 2706, 2707, 2714, 2716, 2721, 2760, 2762, 2791, 2793, 2815, 2820, 2823, 2831, 2832, 2833, 2835, 2887, 2889, 2928, 2929, 2959, 2967, 2975, 2987, 3007, 3016, 3018, 3090, 3093, 3116, 3118, 3120, 3125, 3130, 3138, 3143, 3146, 3149, 3160, 3161, 3162, 3167, 3169, 3170, 3171, 3173, 3177, 3178, 3179, 3182, 3184, 3185, 3187, 3188, 3192, 3193, 3194, 3196, 3199, 3202, 3204, 3206, 3214, 3219, 3225, 3226, 3229, 3233, 3251, 3252, 3253, 3261, 3262, 3266, 3268, 3269, 3308, 3309, 3311, 3313, 3334, 3335, 3336, 3337, 3338, 3340, 3341, 3344, 3345, 3346, 3352, 3354, 3355, 3356, 3357, 3359, 3360, 3363, 3379, 3383, 3388, 3390, 3403, 3406, 3415, 3425, 3450, 3452, 3475, 3476, 3479, 3489, 3514, 3527, 3529, 3542, 3544, 3546, 3552, 3553, 3587, 3588, 3590, 3592, 3595, 3596, 3602, 3606, 3609, 3610, 3612, 3623, 3624, 3627, 3628, 3632, 3633, 3634, 3635, 3636, 3637, 3645, 3653, 3655, 3657, 3659, 3660, 3661, 3669, 3671, 3683, 3698, 10001, 10002, 10004, 10005, 10006, 10008, 10009, 10011, 10013, 10014, 10018, 10019, 10022, 10023, 10024, 10025, 10026, 10028, 10029, 10034, 10036, 10037, 10038, 10041, 10043, 10044, 10049, 10060, 10075, 10079, 10081, 10082, 10084, 10085, 10089, 10091, 10103, 10107, 10108, 10116, 10117, 10118, 10122, 10127, 10138, 10152, 10153, 10155, 10156, 10157, 10165, 10166, 10169, 10184, 10187, 10208, 10209, 10212, 10215, 10229, 10230, 10231, 10232, 10233, 10236, 10238, 10239, 10243, 10244, 10249, 10251, 10254, 10257, 10258, 10264, 10309, 10311, 10312, 10313, 10317, 10318, 10333, 10339, 10344, 10346, 10354, 10358, 10366, 10368, 10370, 10395, 10402, 10405, 10411, 10414, 10421, 10434, 10448, 10449, 10450, 10454, 10456, 10468, 10471, 10472, 10476, 10484, 10486, 10487, 10491, 10492, 10493, 10494, 10495, 10496, 10499, 10500, 10501, 10503, 10504, 10505, 10506, 10507, 10508, 10509, 10510, 10513, 10514, 10518, 10520, 10521, 10524, 10525, 10526, 10527, 10528, 10529, 10530, 10532, 10533, 10534, 10535, 10536, 10538, 10539, 10540, 10543, 10544, 10545, 10546, 10547, 10551, 10554, 10555, 10556, 10557, 10558, 10561, 10562, 10563, 10564, 10565, 10567, 10574, 10576, 10578, 10582, 10583, 10584, 10605, 10606, 10607, 10608, 10614, 10621, 10626, 10647, 10652, 10655, 10656, 10658, 10660, 10662, 10666, 10676, 10677, 10678, 10679, 10682, 10685, 10686, 10690, 10697, 10698, 10700, 10721, 10751, 10754, 10772, 10773, 10776, 10791, 10805, 10807, 10809, 10837, 10852, 10853, 10858, 10862, 10867, 10876, 10877, 10878, 10881, 10903, 10928, 10930, 10931, 10933, 10949, 10950, 10951, 10956, 10964, 10994, 10996, 11002, 11005, 11007, 11008, 11020, 11024, 11025, 11028, 11033, 11039, 11041, 11047, 11050, 11053, 11054, 11056, 11058, 11098, 11101, 11107, 11108, 11125, 11141, 11144, 11146, 11179, 11180, 11182, 11183, 11200, 11285, 11287, 11288, 11292, 11293, 11301, 11302, 11303, 11312, 11314, 11458, 11459, 11492, 11493, 11494, 11495, 11497, 11499, 11500, 11510, 11512, 11513, 11518, 11549, 11596, 11598, 11605, 11607, 11609, 11610, 11748, 11755, 11759, 11761, 11764, 11766, 11776, 11785, 11786, 11790, 11791, 11792, 11793, 11794, 11796, 11798, 11799, 11815, 11817, 11822, 11823, 11827, 11835, 11844, 11845, 11846, 11852, 11853, 11859, 11979, 11980, 11983, 11985, 11986, 11987, 11990, 12025, 12026, 12027, 12050, 12052, 12054, 12055, 12057, 12064, 12065, 12066, 12067, 12089, 12094, 12110, 12111, 12146, 12147, 12150, 12158, 12161, 12201, 12202, 12206, 12207, 12208, 12247, 12249, 12272, 12273, 12274, 12278, 12280, 12283, 12284, 12285, 12288, 12290, 12292, 12294, 12297, 12298, 12300, 12301, 12302, 12303, 12307, 12308, 12309, 12310, 12320, 12321, 12322, 12325, 12329, 12375, 12376, 12381, 12382, 12383, 12384, 12386, 12387, 12388, 12390, 12391, 12393, 12395, 12396, 12397, 12399, 12401, 12402, 12403, 12404, 12406, 12408, 12410, 12418, 12423, 12424, 12425, 12426, 12427, 12428, 12429, 12431, 12432, 12435, 12439, 12442, 12447, 12452, 12456, 12458, 12465, 12467, 12469, 12470, 12472, 12473, 12474, 12481, 12489, 12490, 12491, 12492, 12495, 12496, 12498, 12500, 12501, 12502, 12504, 12505, 12507, 12516, 12518, 12521, 12523, 12525, 12527, 12531, 12535, 12537, 12538, 12540, 12541, 12542, 12544, 12545, 12546, 12548, 12549, 12556, 12558, 12562, 12564, 12566, 12576, 12579, 12580, 12584, 12610, 12611, 12622, 12624, 12626, 12634, 12637, 12670, 12674, 12679, 12680, 12686, 12688, 12698, 12700, 12706, 12707, 12713, 12719, 12722, 12723, 12728, 12733, 12738, 12740, 12749, 12752, 12753, 12755, 12756, 12757, 12763, 12765, 12766, 12767, 12772, 12786, 12787, 12788, 12794, 12850, 12912, 12914, 12918, 12922, 12944, 12948, 12951, 12954, 12955, 12961, 12966, 12985, 12986, 12988, 12989, 12992, 12993, 12994, 12996, 12998, 13002, 13003, 13004, 13005, 13006, 13007, 13009, 13014, 13018, 13020, 13021, 13022, 13024, 13027, 13033, 13034, 13036, 13037, 13039, 13040, 13044, 13046, 13047, 13051, 13052, 13053, 13054, 13057, 13060, 13061, 13062, 13064, 13068, 13078, 13085, 13087, 13088, 13089, 13093, 13096, 13118, 13119, 13120, 13122, 13125, 13128, 13132, 13137, 13141, 13142, 13146, 13148, 13154, 13155, 13162, 13163, 13176, 13179, 13182, 13193, 13195, 13197, 13198, 13199, 13200, 13207, 13211, 13221, 13225, 13226, 13236, 13239, 13244, 13245, 13248, 13252, 13254, 13255, 13264, 13316, 13319, 13322, 13335, 13338, 13459, 13460, 13461, 13462, 13636, 13644, 13645, 13648, 13649, 13652, 13653, 13659, 13686, 13689, 13702, 13707, 13712, 13716, 13744, 13763, 13767, 13769, 13771, 13772, 13777, 13778, 13780, 13782, 13789, 13794, 13818, 13827, 13828, 13874, 13876, 13877, 13996, 14025, 14026, 14027, 14030, 14031, 14036, 14052, 14053, 14054, 14058, 14060, 14061, 14063, 14079, 14080, 14087, 14088, 14089, 14090, 14125, 14126, 14128, 14132, 14134, 14151, 14160, 14171, 14173, 14174, 14178, 14180, 14181, 14205, 14213, 14214, 14216, 14217, 14219, 14221, 14225, 14238, 14241, 14242, 14253, 14255, 14257, 14275, 14317, 14318, 14324, 14328, 14332, 14336, 14337, 14348, 14351, 14352, 14354, 14363, 14373, 14376, 14378, 14379, 14386, 14387, 14389, 14394, 14407, 14410, 14423, 14425, 14426, 30000, 30002, 30006, 30011, 30012, 30014, 30015, 30036, 30037, 30038, 30039, 30040, 30041, 30043, 30044, 30045, 30050, 30052, 30054, 30055, 30056, 30057, 30058, 30060, 30109, 30111, 30112, 30114, 30116, 30118, 30120, 30123, 30128, 30132, 30141, 30180, 30181, 30183, 30184, 30188, 30214, 30217, 30219, 30397, 30408, 30411, 30414, 30416, 30417, 30419, 30420, 30541, 30542, 30627, 30706, 30707, 30754, 30757, 30758, 30759, 30766, 30768, 30769, 30770, 30771, 30776, 30787, 30789, 30793, 30796, 30797, 30803, 30804, 30805, 30806, 30814, 30818, 30827, 30834, 30835, 30837, 30839, 30840, 30841, 30843, 30844, 30846, 30847, 30849, 30851, 30897, 30899, 30901, 30903, 30914, 30920, 30923, 30926, 30927, 30930, 30931, 30935, 30936, 30938, 30943, 30947, 30951, 30953, 30955, 30968, 30971, 30972, 30977, 30979, 30980, 30981, 30982, 30984, 30986, 30987, 30988, 30989, 30992, 30993, 30994, 30996, 30997, 31000, 31013, 31031, 31084, 31085, 31092, 31309, 31316, 31317, 31318, 31321, 31322, 31329, 31403, 31404, 31405, 31406, 31408, 31418, 31419, 31422, 31423, 31426, 31431, 31433, 31434, 31435]\n",
      "1406\n"
     ]
    }
   ],
   "source": [
    "# cоздаем граф (иерархию)\n",
    "G = nx.DiGraph()\n",
    "for _, row in category_tree.iterrows():\n",
    "    G.add_edge(row['parent_id'], row['cat_id'])  # parent → child\n",
    "\n",
    "terminators = [\n",
    "    x for x in G.nodes() if G.out_degree(x) == 0 and G.in_degree(x) == 1\n",
    "]  # ищем конечные узлы\n",
    "\n",
    "print(terminators)\n",
    "print(len(terminators))"
   ]
  },
  {
   "cell_type": "code",
   "execution_count": 6,
   "metadata": {},
   "outputs": [],
   "source": [
    "# выбираем конечные категории\n",
    "category_tree = category_tree[category_tree['cat_id'].isin(terminators)]"
   ]
  },
  {
   "cell_type": "code",
   "execution_count": 7,
   "metadata": {},
   "outputs": [
    {
     "data": {
      "text/html": [
       "<div>\n",
       "<style scoped>\n",
       "    .dataframe tbody tr th:only-of-type {\n",
       "        vertical-align: middle;\n",
       "    }\n",
       "\n",
       "    .dataframe tbody tr th {\n",
       "        vertical-align: top;\n",
       "    }\n",
       "\n",
       "    .dataframe thead th {\n",
       "        text-align: right;\n",
       "    }\n",
       "</style>\n",
       "<table border=\"1\" class=\"dataframe\">\n",
       "  <thead>\n",
       "    <tr style=\"text-align: right;\">\n",
       "      <th></th>\n",
       "      <th>cat_id</th>\n",
       "      <th>parent_id</th>\n",
       "      <th>cat_name</th>\n",
       "    </tr>\n",
       "  </thead>\n",
       "  <tbody>\n",
       "    <tr>\n",
       "      <th>38</th>\n",
       "      <td>117</td>\n",
       "      <td>1</td>\n",
       "      <td>Радиоуправляемые модели</td>\n",
       "    </tr>\n",
       "    <tr>\n",
       "      <th>72</th>\n",
       "      <td>152</td>\n",
       "      <td>4</td>\n",
       "      <td>Детская одежда и обувь</td>\n",
       "    </tr>\n",
       "    <tr>\n",
       "      <th>81</th>\n",
       "      <td>164</td>\n",
       "      <td>5</td>\n",
       "      <td>Парники и теплицы</td>\n",
       "    </tr>\n",
       "    <tr>\n",
       "      <th>84</th>\n",
       "      <td>169</td>\n",
       "      <td>6</td>\n",
       "      <td>Макароны, крупы</td>\n",
       "    </tr>\n",
       "    <tr>\n",
       "      <th>85</th>\n",
       "      <td>170</td>\n",
       "      <td>6</td>\n",
       "      <td>Растительное масло</td>\n",
       "    </tr>\n",
       "  </tbody>\n",
       "</table>\n",
       "</div>"
      ],
      "text/plain": [
       "    cat_id  parent_id                 cat_name\n",
       "38     117          1  Радиоуправляемые модели\n",
       "72     152          4   Детская одежда и обувь\n",
       "81     164          5        Парники и теплицы\n",
       "84     169          6          Макароны, крупы\n",
       "85     170          6       Растительное масло"
      ]
     },
     "execution_count": 7,
     "metadata": {},
     "output_type": "execute_result"
    }
   ],
   "source": [
    "category_tree.head()"
   ]
  },
  {
   "cell_type": "code",
   "execution_count": 8,
   "metadata": {},
   "outputs": [],
   "source": [
    "# преобразуем данные в dataset\n",
    "dataset = Dataset.from_pandas(df)\n",
    "category_ds = Dataset.from_pandas(category_tree)"
   ]
  },
  {
   "cell_type": "code",
   "execution_count": 10,
   "metadata": {},
   "outputs": [
    {
     "data": {
      "application/vnd.jupyter.widget-view+json": {
       "model_id": "0e6f3335a6fb4fc2ad55a915996e91c4",
       "version_major": 2,
       "version_minor": 0
      },
      "text/plain": [
       "Map:   0%|          | 0/784742 [00:00<?, ? examples/s]"
      ]
     },
     "metadata": {},
     "output_type": "display_data"
    }
   ],
   "source": [
    "# получение эмбеддингов для неразмеченного датасета\n",
    "def get_embeddings(texts):\n",
    "    \"\"\"\n",
    "    Получает эмбеддинги для текста.\n",
    "    \"\"\"\n",
    "    inputs = tokenizer(f\"query: {texts['name']}\",\n",
    "                       padding=True,\n",
    "                       truncation=True,\n",
    "                       max_length=27,\n",
    "                       return_tensors='pt')\n",
    "    inputs = {key: val.to('cuda:0')\n",
    "              for key, val in inputs.items()}  # отправляем на GPU\n",
    "    \n",
    "    with torch.no_grad():\n",
    "        outputs = model(**inputs)\n",
    "\n",
    "    embeddings = outputs.last_hidden_state.cpu().sum(dim=1)\n",
    "    embeddings = F.normalize(embeddings, p=2, dim=1)\n",
    "    texts['bert_emb'] = embeddings.squeeze()\n",
    "    \n",
    "    return texts\n",
    "\n",
    "\n",
    "# применяем к датасету\n",
    "dataset_emb = dataset.map(get_embeddings)"
   ]
  },
  {
   "cell_type": "code",
   "execution_count": 11,
   "metadata": {},
   "outputs": [
    {
     "data": {
      "application/vnd.jupyter.widget-view+json": {
       "model_id": "dbe40a47028d424f96e45b01787e1eda",
       "version_major": 2,
       "version_minor": 0
      },
      "text/plain": [
       "Map:   0%|          | 0/1406 [00:00<?, ? examples/s]"
      ]
     },
     "metadata": {},
     "output_type": "display_data"
    }
   ],
   "source": [
    "# получение эмбеддингов для датасета category_tree\n",
    "def get_embeddings_cat(texts):\n",
    "    \"\"\"\n",
    "    Получает эмбеддинги для текста.\n",
    "    \"\"\"\n",
    "    inputs = tokenizer(f\"query: {texts['cat_name']}\",\n",
    "                       padding=True,\n",
    "                       truncation=True,\n",
    "                       max_length=27,\n",
    "                       return_tensors='pt')\n",
    "    inputs = {key: val.to('cuda:0')\n",
    "              for key, val in inputs.items()}  # отправляем на GPU\n",
    "\n",
    "    with torch.no_grad():\n",
    "        outputs = model(**inputs)\n",
    "\n",
    "    embeddings = outputs.last_hidden_state.cpu().sum(dim=1)  # Берем CLS токен\n",
    "    embeddings = F.normalize(embeddings, p=2, dim=1)\n",
    "    texts['bert_emb'] = embeddings.squeeze()\n",
    "    \n",
    "    return texts\n",
    "\n",
    "\n",
    "# применяем к датасету\n",
    "category_embedding = category_ds.map(get_embeddings_cat)"
   ]
  },
  {
   "cell_type": "code",
   "execution_count": 12,
   "metadata": {},
   "outputs": [],
   "source": [
    "# сохраняем обработанные датасеты\n",
    "dataset_emb = pd.DataFrame(dataset_emb['bert_emb'])\n",
    "dataset_emb.to_parquet('dataset_emb.parquet', index=False)\n",
    "\n",
    "category_embedding = pd.DataFrame(category_embedding['bert_emb'])\n",
    "category_embedding.to_parquet('category_embedding.parquet', index=False)"
   ]
  },
  {
   "cell_type": "code",
   "execution_count": 13,
   "metadata": {},
   "outputs": [
    {
     "data": {
      "text/html": [
       "<div>\n",
       "<style scoped>\n",
       "    .dataframe tbody tr th:only-of-type {\n",
       "        vertical-align: middle;\n",
       "    }\n",
       "\n",
       "    .dataframe tbody tr th {\n",
       "        vertical-align: top;\n",
       "    }\n",
       "\n",
       "    .dataframe thead th {\n",
       "        text-align: right;\n",
       "    }\n",
       "</style>\n",
       "<table border=\"1\" class=\"dataframe\">\n",
       "  <thead>\n",
       "    <tr style=\"text-align: right;\">\n",
       "      <th></th>\n",
       "      <th>0</th>\n",
       "      <th>1</th>\n",
       "      <th>2</th>\n",
       "      <th>3</th>\n",
       "      <th>4</th>\n",
       "      <th>5</th>\n",
       "      <th>6</th>\n",
       "      <th>7</th>\n",
       "      <th>8</th>\n",
       "      <th>9</th>\n",
       "      <th>...</th>\n",
       "      <th>1014</th>\n",
       "      <th>1015</th>\n",
       "      <th>1016</th>\n",
       "      <th>1017</th>\n",
       "      <th>1018</th>\n",
       "      <th>1019</th>\n",
       "      <th>1020</th>\n",
       "      <th>1021</th>\n",
       "      <th>1022</th>\n",
       "      <th>1023</th>\n",
       "    </tr>\n",
       "  </thead>\n",
       "  <tbody>\n",
       "    <tr>\n",
       "      <th>0</th>\n",
       "      <td>0.013414</td>\n",
       "      <td>-0.014273</td>\n",
       "      <td>-0.029773</td>\n",
       "      <td>-0.048221</td>\n",
       "      <td>0.036815</td>\n",
       "      <td>-0.029010</td>\n",
       "      <td>-0.024017</td>\n",
       "      <td>0.108831</td>\n",
       "      <td>0.058724</td>\n",
       "      <td>-0.015389</td>\n",
       "      <td>...</td>\n",
       "      <td>-0.014562</td>\n",
       "      <td>-0.012051</td>\n",
       "      <td>0.007828</td>\n",
       "      <td>-0.005488</td>\n",
       "      <td>-0.018361</td>\n",
       "      <td>0.007261</td>\n",
       "      <td>0.017712</td>\n",
       "      <td>-0.001841</td>\n",
       "      <td>-0.008097</td>\n",
       "      <td>0.026774</td>\n",
       "    </tr>\n",
       "    <tr>\n",
       "      <th>1</th>\n",
       "      <td>0.032827</td>\n",
       "      <td>-0.014384</td>\n",
       "      <td>-0.025819</td>\n",
       "      <td>-0.006944</td>\n",
       "      <td>0.036096</td>\n",
       "      <td>-0.002826</td>\n",
       "      <td>-0.009879</td>\n",
       "      <td>0.084608</td>\n",
       "      <td>0.043732</td>\n",
       "      <td>-0.015487</td>\n",
       "      <td>...</td>\n",
       "      <td>-0.003692</td>\n",
       "      <td>-0.043608</td>\n",
       "      <td>0.004786</td>\n",
       "      <td>-0.016799</td>\n",
       "      <td>0.004248</td>\n",
       "      <td>0.022676</td>\n",
       "      <td>0.001343</td>\n",
       "      <td>0.014661</td>\n",
       "      <td>-0.035101</td>\n",
       "      <td>-0.006278</td>\n",
       "    </tr>\n",
       "    <tr>\n",
       "      <th>2</th>\n",
       "      <td>0.026521</td>\n",
       "      <td>-0.006469</td>\n",
       "      <td>-0.018587</td>\n",
       "      <td>-0.018326</td>\n",
       "      <td>0.034383</td>\n",
       "      <td>-0.045831</td>\n",
       "      <td>-0.013413</td>\n",
       "      <td>0.091562</td>\n",
       "      <td>0.034955</td>\n",
       "      <td>-0.034436</td>\n",
       "      <td>...</td>\n",
       "      <td>-0.027361</td>\n",
       "      <td>-0.022528</td>\n",
       "      <td>0.018664</td>\n",
       "      <td>-0.008917</td>\n",
       "      <td>0.004040</td>\n",
       "      <td>0.047897</td>\n",
       "      <td>0.004496</td>\n",
       "      <td>-0.011304</td>\n",
       "      <td>-0.006231</td>\n",
       "      <td>0.014041</td>\n",
       "    </tr>\n",
       "    <tr>\n",
       "      <th>3</th>\n",
       "      <td>0.037698</td>\n",
       "      <td>-0.001712</td>\n",
       "      <td>-0.012433</td>\n",
       "      <td>-0.033278</td>\n",
       "      <td>0.047253</td>\n",
       "      <td>0.000388</td>\n",
       "      <td>-0.027752</td>\n",
       "      <td>0.091067</td>\n",
       "      <td>0.032933</td>\n",
       "      <td>-0.029515</td>\n",
       "      <td>...</td>\n",
       "      <td>-0.044412</td>\n",
       "      <td>-0.026803</td>\n",
       "      <td>0.019281</td>\n",
       "      <td>0.011100</td>\n",
       "      <td>-0.018829</td>\n",
       "      <td>0.032191</td>\n",
       "      <td>-0.018411</td>\n",
       "      <td>0.001348</td>\n",
       "      <td>-0.020426</td>\n",
       "      <td>0.010103</td>\n",
       "    </tr>\n",
       "    <tr>\n",
       "      <th>4</th>\n",
       "      <td>0.030515</td>\n",
       "      <td>0.000105</td>\n",
       "      <td>-0.001582</td>\n",
       "      <td>-0.040708</td>\n",
       "      <td>0.022216</td>\n",
       "      <td>-0.040541</td>\n",
       "      <td>-0.005007</td>\n",
       "      <td>0.113615</td>\n",
       "      <td>0.053629</td>\n",
       "      <td>-0.028242</td>\n",
       "      <td>...</td>\n",
       "      <td>0.000252</td>\n",
       "      <td>-0.028102</td>\n",
       "      <td>-0.016710</td>\n",
       "      <td>0.006648</td>\n",
       "      <td>-0.006319</td>\n",
       "      <td>0.030813</td>\n",
       "      <td>-0.001912</td>\n",
       "      <td>-0.014749</td>\n",
       "      <td>-0.028580</td>\n",
       "      <td>0.023760</td>\n",
       "    </tr>\n",
       "  </tbody>\n",
       "</table>\n",
       "<p>5 rows × 1024 columns</p>\n",
       "</div>"
      ],
      "text/plain": [
       "       0         1         2         3         4         5         6     \\\n",
       "0  0.013414 -0.014273 -0.029773 -0.048221  0.036815 -0.029010 -0.024017   \n",
       "1  0.032827 -0.014384 -0.025819 -0.006944  0.036096 -0.002826 -0.009879   \n",
       "2  0.026521 -0.006469 -0.018587 -0.018326  0.034383 -0.045831 -0.013413   \n",
       "3  0.037698 -0.001712 -0.012433 -0.033278  0.047253  0.000388 -0.027752   \n",
       "4  0.030515  0.000105 -0.001582 -0.040708  0.022216 -0.040541 -0.005007   \n",
       "\n",
       "       7         8         9     ...      1014      1015      1016      1017  \\\n",
       "0  0.108831  0.058724 -0.015389  ... -0.014562 -0.012051  0.007828 -0.005488   \n",
       "1  0.084608  0.043732 -0.015487  ... -0.003692 -0.043608  0.004786 -0.016799   \n",
       "2  0.091562  0.034955 -0.034436  ... -0.027361 -0.022528  0.018664 -0.008917   \n",
       "3  0.091067  0.032933 -0.029515  ... -0.044412 -0.026803  0.019281  0.011100   \n",
       "4  0.113615  0.053629 -0.028242  ...  0.000252 -0.028102 -0.016710  0.006648   \n",
       "\n",
       "       1018      1019      1020      1021      1022      1023  \n",
       "0 -0.018361  0.007261  0.017712 -0.001841 -0.008097  0.026774  \n",
       "1  0.004248  0.022676  0.001343  0.014661 -0.035101 -0.006278  \n",
       "2  0.004040  0.047897  0.004496 -0.011304 -0.006231  0.014041  \n",
       "3 -0.018829  0.032191 -0.018411  0.001348 -0.020426  0.010103  \n",
       "4 -0.006319  0.030813 -0.001912 -0.014749 -0.028580  0.023760  \n",
       "\n",
       "[5 rows x 1024 columns]"
      ]
     },
     "execution_count": 13,
     "metadata": {},
     "output_type": "execute_result"
    }
   ],
   "source": [
    "category_embedding.head()"
   ]
  },
  {
   "cell_type": "code",
   "execution_count": 14,
   "metadata": {},
   "outputs": [],
   "source": [
    "# преобразование данных для fiass\n",
    "dataset_emb[0] = dataset_emb[0].apply(lambda x: np.array(x, dtype='float32'))\n",
    "category_embedding[0] = category_embedding[0].apply(lambda x: np.array(x, dtype='float32'))"
   ]
  },
  {
   "cell_type": "markdown",
   "metadata": {},
   "source": [
    "# Marking"
   ]
  },
  {
   "cell_type": "markdown",
   "metadata": {},
   "source": [
    "## Faiss"
   ]
  },
  {
   "cell_type": "code",
   "execution_count": null,
   "metadata": {},
   "outputs": [],
   "source": [
    "def faiss_search(dataset, category_emb, category_tree):\n",
    "    \"\"\"\n",
    "    Размечает датасет с помощью faiss.\n",
    "    \n",
    "    :param dataset: датасет с эмбеддингами объектов, которые нужно разметить.\n",
    "    :param category_emb: словарь, где ключи - названия категорий, значения — их эмбеддинги.\n",
    "    :param category_tree: датасет содержащий информацию о категориях.\n",
    "    :return: список найденных меток категорий, \n",
    "            где каждая строка соответствует топ-5 категориям для одного объекта.\n",
    "    \"\"\"\n",
    "    labels_df = []\n",
    "\n",
    "    dimension = 1024\n",
    "    index = faiss.IndexFlatL2(\n",
    "        dimension)  # инициализирует FAISS индекс для поиска по L2 расстоянию\n",
    "\n",
    "    # добавляем категории в FAISS\n",
    "    embeddings = np.vstack(category_emb.values).astype(np.float32)\n",
    "\n",
    "    index.add(embeddings)\n",
    "\n",
    "    for i in tqdm(range(dataset.shape[0])):\n",
    "        search = dataset.iloc[i].values.astype(np.float32).reshape(1, -1)\n",
    "\n",
    "        D, I = index.search(search, 5)\n",
    "        labels = category_tree.iloc[I.flatten(\n",
    "        )]['cat_id'].values  # размечаем категории по category_tree\n",
    "\n",
    "        labels_df.append(labels)\n",
    "\n",
    "    return labels_df"
   ]
  },
  {
   "cell_type": "code",
   "execution_count": 22,
   "metadata": {},
   "outputs": [
    {
     "name": "stderr",
     "output_type": "stream",
     "text": [
      "100%|██████████| 784742/784742 [03:34<00:00, 3650.99it/s]\n"
     ]
    }
   ],
   "source": [
    "# проводим доразметку\n",
    "ldf = faiss_search(dataset_emb, category_embedding, category_tree)"
   ]
  },
  {
   "cell_type": "code",
   "execution_count": 23,
   "metadata": {},
   "outputs": [
    {
     "data": {
      "text/plain": [
       "[array([ 1409, 30977,  1293, 14407, 10421], dtype=int64),\n",
       " array([ 1376, 11292,  1401, 11293, 10496], dtype=int64),\n",
       " array([10493,  1399, 14027, 14025, 10492], dtype=int64),\n",
       " array([ 1238,  1304, 10118,  3610, 10127], dtype=int64),\n",
       " array([12290, 10004, 10028, 14126, 12322], dtype=int64)]"
      ]
     },
     "execution_count": 23,
     "metadata": {},
     "output_type": "execute_result"
    }
   ],
   "source": [
    "ldf[0:5]"
   ]
  },
  {
   "cell_type": "code",
   "execution_count": 24,
   "metadata": {},
   "outputs": [],
   "source": [
    "ldf = pd.DataFrame(\n",
    "    pd.Series((v for v in ldf)),\n",
    "    columns=['labels'])  # создаем датафрейм из полученных меток категорий"
   ]
  },
  {
   "cell_type": "code",
   "execution_count": 31,
   "metadata": {},
   "outputs": [
    {
     "data": {
      "text/html": [
       "<div>\n",
       "<style scoped>\n",
       "    .dataframe tbody tr th:only-of-type {\n",
       "        vertical-align: middle;\n",
       "    }\n",
       "\n",
       "    .dataframe tbody tr th {\n",
       "        vertical-align: top;\n",
       "    }\n",
       "\n",
       "    .dataframe thead th {\n",
       "        text-align: right;\n",
       "    }\n",
       "</style>\n",
       "<table border=\"1\" class=\"dataframe\">\n",
       "  <thead>\n",
       "    <tr style=\"text-align: right;\">\n",
       "      <th></th>\n",
       "      <th>labels</th>\n",
       "    </tr>\n",
       "  </thead>\n",
       "  <tbody>\n",
       "    <tr>\n",
       "      <th>0</th>\n",
       "      <td>[1409, 30977, 1293, 14407, 10421]</td>\n",
       "    </tr>\n",
       "    <tr>\n",
       "      <th>1</th>\n",
       "      <td>[1376, 11292, 1401, 11293, 10496]</td>\n",
       "    </tr>\n",
       "    <tr>\n",
       "      <th>2</th>\n",
       "      <td>[10493, 1399, 14027, 14025, 10492]</td>\n",
       "    </tr>\n",
       "    <tr>\n",
       "      <th>3</th>\n",
       "      <td>[1238, 1304, 10118, 3610, 10127]</td>\n",
       "    </tr>\n",
       "    <tr>\n",
       "      <th>4</th>\n",
       "      <td>[12290, 10004, 10028, 14126, 12322]</td>\n",
       "    </tr>\n",
       "    <tr>\n",
       "      <th>5</th>\n",
       "      <td>[12278, 10024, 14134, 14317, 14216]</td>\n",
       "    </tr>\n",
       "    <tr>\n",
       "      <th>6</th>\n",
       "      <td>[3609, 1001, 10011, 3233, 1141]</td>\n",
       "    </tr>\n",
       "    <tr>\n",
       "      <th>7</th>\n",
       "      <td>[1327, 10084, 14389, 10081, 10165]</td>\n",
       "    </tr>\n",
       "    <tr>\n",
       "      <th>8</th>\n",
       "      <td>[10556, 10555, 10528, 10526, 1634]</td>\n",
       "    </tr>\n",
       "    <tr>\n",
       "      <th>9</th>\n",
       "      <td>[1306, 1064, 1081, 1085, 10153]</td>\n",
       "    </tr>\n",
       "  </tbody>\n",
       "</table>\n",
       "</div>"
      ],
      "text/plain": [
       "                                labels\n",
       "0    [1409, 30977, 1293, 14407, 10421]\n",
       "1    [1376, 11292, 1401, 11293, 10496]\n",
       "2   [10493, 1399, 14027, 14025, 10492]\n",
       "3     [1238, 1304, 10118, 3610, 10127]\n",
       "4  [12290, 10004, 10028, 14126, 12322]\n",
       "5  [12278, 10024, 14134, 14317, 14216]\n",
       "6      [3609, 1001, 10011, 3233, 1141]\n",
       "7   [1327, 10084, 14389, 10081, 10165]\n",
       "8   [10556, 10555, 10528, 10526, 1634]\n",
       "9      [1306, 1064, 1081, 1085, 10153]"
      ]
     },
     "execution_count": 31,
     "metadata": {},
     "output_type": "execute_result"
    }
   ],
   "source": [
    "ldf.head(10)"
   ]
  },
  {
   "cell_type": "code",
   "execution_count": 56,
   "metadata": {},
   "outputs": [],
   "source": [
    "# сохраняем датасет\n",
    "ldf.to_parquet('f_cat.parquet', index=False)"
   ]
  },
  {
   "cell_type": "markdown",
   "metadata": {},
   "source": [
    "## Reranker"
   ]
  },
  {
   "cell_type": "code",
   "execution_count": 28,
   "metadata": {},
   "outputs": [
    {
     "name": "stderr",
     "output_type": "stream",
     "text": [
      "  0%|          | 0/784742 [00:00<?, ?it/s]Asking to truncate to max_length but no maximum length is provided and the model has no predefined maximum length. Default to no truncation.\n",
      "100%|██████████| 784742/784742 [1:23:57<00:00, 155.79it/s]\n"
     ]
    }
   ],
   "source": [
    "# ранжируем cat_id reranker, получаем список топ-1 cat_id\n",
    "num_cat_id_final = 1\n",
    "\n",
    "# создаём словарь для быстрого поиска cat_id → cat_name\n",
    "cat_dict = dict(zip(category_tree['cat_id'], category_tree['cat_name']))\n",
    "\n",
    "# преобразуем каждый список id в список имен\n",
    "relevant_cat_id = [[cat_dict[j] for j in i if j in cat_dict]\n",
    "                   for i in ldf['labels']]\n",
    "\n",
    "unlabeled_train_lst = df['name'].tolist()\n",
    "\n",
    "new_relevant_cat_id = []\n",
    "c = 0\n",
    "for i, j in tqdm(\n",
    "        zip(unlabeled_train_lst,\n",
    "            relevant_cat_id), total=len(unlabeled_train_lst)\n",
    "):  # проходит по названиям в неразмеченном датасете и названиям из топ-5 в размеченном\n",
    "    relevant = reranker.rank(i, j)\n",
    "\n",
    "    new_relevant_docs = []\n",
    "    for k in relevant:\n",
    "        new_relevant_docs.append(\n",
    "            j[k['corpus_id']]\n",
    "        )  # сопоставляет ответ reranker и список названий cat_id\n",
    "\n",
    "    relevant_docs = new_relevant_docs\n",
    "    relevant_docs = relevant_docs[:num_cat_id_final]\n",
    "    search_value = relevant_docs[0]\n",
    "\n",
    "    # получаем cat_id из названия\n",
    "    for key, value in cat_dict.items():\n",
    "        if value == search_value:\n",
    "            new_relevant_cat_id.append(key)\n",
    "            break\n",
    "\n",
    "rerank_unlabeled_train_cat_id = pd.DataFrame({'label': new_relevant_cat_id})"
   ]
  },
  {
   "cell_type": "code",
   "execution_count": 29,
   "metadata": {},
   "outputs": [],
   "source": [
    "# сохраняем датасет\n",
    "rerank_unlabeled_train_cat_id.to_parquet('rerank_unlabeled_train_cat_id.parquet', index=False)"
   ]
  },
  {
   "cell_type": "code",
   "execution_count": 32,
   "metadata": {},
   "outputs": [
    {
     "data": {
      "text/html": [
       "<div>\n",
       "<style scoped>\n",
       "    .dataframe tbody tr th:only-of-type {\n",
       "        vertical-align: middle;\n",
       "    }\n",
       "\n",
       "    .dataframe tbody tr th {\n",
       "        vertical-align: top;\n",
       "    }\n",
       "\n",
       "    .dataframe thead th {\n",
       "        text-align: right;\n",
       "    }\n",
       "</style>\n",
       "<table border=\"1\" class=\"dataframe\">\n",
       "  <thead>\n",
       "    <tr style=\"text-align: right;\">\n",
       "      <th></th>\n",
       "      <th>label</th>\n",
       "    </tr>\n",
       "  </thead>\n",
       "  <tbody>\n",
       "    <tr>\n",
       "      <th>0</th>\n",
       "      <td>1409</td>\n",
       "    </tr>\n",
       "    <tr>\n",
       "      <th>1</th>\n",
       "      <td>1376</td>\n",
       "    </tr>\n",
       "    <tr>\n",
       "      <th>2</th>\n",
       "      <td>10493</td>\n",
       "    </tr>\n",
       "    <tr>\n",
       "      <th>3</th>\n",
       "      <td>1238</td>\n",
       "    </tr>\n",
       "    <tr>\n",
       "      <th>4</th>\n",
       "      <td>12290</td>\n",
       "    </tr>\n",
       "    <tr>\n",
       "      <th>5</th>\n",
       "      <td>12278</td>\n",
       "    </tr>\n",
       "    <tr>\n",
       "      <th>6</th>\n",
       "      <td>1001</td>\n",
       "    </tr>\n",
       "    <tr>\n",
       "      <th>7</th>\n",
       "      <td>1327</td>\n",
       "    </tr>\n",
       "    <tr>\n",
       "      <th>8</th>\n",
       "      <td>10528</td>\n",
       "    </tr>\n",
       "    <tr>\n",
       "      <th>9</th>\n",
       "      <td>1306</td>\n",
       "    </tr>\n",
       "  </tbody>\n",
       "</table>\n",
       "</div>"
      ],
      "text/plain": [
       "   label\n",
       "0   1409\n",
       "1   1376\n",
       "2  10493\n",
       "3   1238\n",
       "4  12290\n",
       "5  12278\n",
       "6   1001\n",
       "7   1327\n",
       "8  10528\n",
       "9   1306"
      ]
     },
     "execution_count": 32,
     "metadata": {},
     "output_type": "execute_result"
    }
   ],
   "source": [
    "rerank_unlabeled_train_cat_id.head(10)"
   ]
  }
 ],
 "metadata": {
  "kernelspec": {
   "display_name": "Python 3 (ipykernel)",
   "language": "python",
   "name": "python3"
  },
  "language_info": {
   "codemirror_mode": {
    "name": "ipython",
    "version": 3
   },
   "file_extension": ".py",
   "mimetype": "text/x-python",
   "name": "python",
   "nbconvert_exporter": "python",
   "pygments_lexer": "ipython3",
   "version": "3.11.5"
  },
  "toc": {
   "base_numbering": 1,
   "nav_menu": {},
   "number_sections": true,
   "sideBar": true,
   "skip_h1_title": false,
   "title_cell": "Table of Contents",
   "title_sidebar": "Contents",
   "toc_cell": false,
   "toc_position": {},
   "toc_section_display": true,
   "toc_window_display": false
  }
 },
 "nbformat": 4,
 "nbformat_minor": 2
}
